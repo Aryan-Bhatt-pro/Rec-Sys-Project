{
  "cells": [
    {
      "cell_type": "markdown",
      "metadata": {
        "colab_type": "text",
        "id": "esCkMaP7JXew"
      },
      "source": [
        "# Long Short Term Memory(LSTM) based - Stock predicition - - # CPU based\n",
        "\n",
        "\n",
        "Aim -to predict the Closing_Price_Prediction using past 60 day stock price."
      ]
    },
    {
      "cell_type": "code",
      "execution_count": 2,
      "metadata": {
        "colab": {
          "base_uri": "https://localhost:8080/",
          "height": 89
        },
        "colab_type": "code",
        "id": "dwSlgPvaIn2D",
        "outputId": "6e52e8be-c05d-40a5-a54e-7c28a80327b1"
      },
      "outputs": [
        {
          "name": "stderr",
          "output_type": "stream",
          "text": [
            "2024-04-30 17:08:46.606277: I tensorflow/core/util/port.cc:113] oneDNN custom operations are on. You may see slightly different numerical results due to floating-point round-off errors from different computation orders. To turn them off, set the environment variable `TF_ENABLE_ONEDNN_OPTS=0`.\n",
            "2024-04-30 17:08:46.635408: I tensorflow/core/platform/cpu_feature_guard.cc:210] This TensorFlow binary is optimized to use available CPU instructions in performance-critical operations.\n",
            "To enable the following instructions: AVX2 AVX_VNNI FMA, in other operations, rebuild TensorFlow with the appropriate compiler flags.\n",
            "2024-04-30 17:08:47.111725: W tensorflow/compiler/tf2tensorrt/utils/py_utils.cc:38] TF-TRT Warning: Could not find TensorRT\n"
          ]
        }
      ],
      "source": [
        "import math\n",
        "import numpy as np\n",
        "import pandas as pd\n",
        "# import pandas_datareader as web\n",
        "#from sklearn.tree import DecisionTreeRegressor\n",
        "#from sklearn.linear_model import LinearRegression\n",
        "#from sklearn.model_selection import train_test_split\n",
        "from sklearn.preprocessing import MinMaxScaler\n",
        "from keras.models import Sequential\n",
        "from keras.layers import Dense, LSTM\n",
        "import matplotlib.pyplot as plt\n",
        "\n",
        "#plt.style.use('fivethirtyeight')\n",
        "#plt.style.use('fivethirtyeight')\n",
        "plt.style.use('seaborn-v0_8-dark')\n"
      ]
    },
    {
      "cell_type": "markdown",
      "metadata": {
        "colab_type": "text",
        "id": "yHHY9g9hObTw"
      },
      "source": [
        "## Data prep"
      ]
    },
    {
      "cell_type": "markdown",
      "metadata": {
        "colab_type": "text",
        "id": "_T2gT-IgObT2"
      },
      "source": [
        "Works on Yahoo based data. (Doesnt contain Indian stock values) "
      ]
    },
    {
      "cell_type": "code",
      "execution_count": 3,
      "metadata": {
        "colab": {},
        "colab_type": "code",
        "id": "O6xbDvInObUO"
      },
      "outputs": [],
      "source": [
        "ticker = 'AMZN'  #amazon  start=   end = current date"
      ]
    },
    {
      "cell_type": "code",
      "execution_count": 4,
      "metadata": {
        "colab": {},
        "colab_type": "code",
        "id": "ciN6kpMsObT6"
      },
      "outputs": [],
      "source": [
        "ticker = 'TSLA'  #Tesla start=   end = current date"
      ]
    },
    {
      "cell_type": "code",
      "execution_count": 5,
      "metadata": {
        "colab": {},
        "colab_type": "code",
        "id": "iIpMmvfdObUs"
      },
      "outputs": [],
      "source": [
        "ticker = 'UBER'  #Uber start=   end = current date"
      ]
    },
    {
      "cell_type": "code",
      "execution_count": 6,
      "metadata": {
        "colab": {},
        "colab_type": "code",
        "id": "bZVF-_oVObU-"
      },
      "outputs": [],
      "source": [
        "ticker = 'TSLA'  #Tesla start=   end = current date"
      ]
    },
    {
      "cell_type": "markdown",
      "metadata": {
        "colab_type": "text",
        "id": "xACXUNdXObVR"
      },
      "source": [
        "Change start and end date for collection, as per Company.  (Start date cant be before the company was founded.)\n",
        "\n",
        "Different approaches can be used for Date collection - \n",
        "\n",
        "\n",
        "1.   Pretrain on 20+ year dataset, finetune for local\n",
        "2.   Event specific timings - As in 2020, covid may lead to a new stock trading pattern.\n",
        "\n"
      ]
    },
    {
      "cell_type": "code",
      "execution_count": 7,
      "metadata": {
        "colab": {
          "base_uri": "https://localhost:8080/",
          "height": 455
        },
        "colab_type": "code",
        "id": "VnjvByqHIn3g",
        "outputId": "249e16d6-f942-431e-f573-0d0f6978e13d"
      },
      "outputs": [
        {
          "data": {
            "text/html": [
              "<div>\n",
              "<style scoped>\n",
              "    .dataframe tbody tr th:only-of-type {\n",
              "        vertical-align: middle;\n",
              "    }\n",
              "\n",
              "    .dataframe tbody tr th {\n",
              "        vertical-align: top;\n",
              "    }\n",
              "\n",
              "    .dataframe thead th {\n",
              "        text-align: right;\n",
              "    }\n",
              "</style>\n",
              "<table border=\"1\" class=\"dataframe\">\n",
              "  <thead>\n",
              "    <tr style=\"text-align: right;\">\n",
              "      <th></th>\n",
              "      <th>date</th>\n",
              "      <th>open</th>\n",
              "      <th>low</th>\n",
              "      <th>high</th>\n",
              "      <th>volume</th>\n",
              "      <th>close</th>\n",
              "      <th>Name</th>\n",
              "    </tr>\n",
              "  </thead>\n",
              "  <tbody>\n",
              "    <tr>\n",
              "      <th>0</th>\n",
              "      <td>1/2/14</td>\n",
              "      <td>398.80</td>\n",
              "      <td>394.02</td>\n",
              "      <td>399.36</td>\n",
              "      <td>2137800.0</td>\n",
              "      <td>397.97</td>\n",
              "      <td>AMZN</td>\n",
              "    </tr>\n",
              "    <tr>\n",
              "      <th>1</th>\n",
              "      <td>1/3/14</td>\n",
              "      <td>398.29</td>\n",
              "      <td>396.22</td>\n",
              "      <td>402.71</td>\n",
              "      <td>2210200.0</td>\n",
              "      <td>396.44</td>\n",
              "      <td>AMZN</td>\n",
              "    </tr>\n",
              "    <tr>\n",
              "      <th>2</th>\n",
              "      <td>1/6/14</td>\n",
              "      <td>395.85</td>\n",
              "      <td>388.42</td>\n",
              "      <td>397.00</td>\n",
              "      <td>3170600.0</td>\n",
              "      <td>393.63</td>\n",
              "      <td>AMZN</td>\n",
              "    </tr>\n",
              "    <tr>\n",
              "      <th>3</th>\n",
              "      <td>1/7/14</td>\n",
              "      <td>395.04</td>\n",
              "      <td>394.29</td>\n",
              "      <td>398.47</td>\n",
              "      <td>1916000.0</td>\n",
              "      <td>398.03</td>\n",
              "      <td>AMZN</td>\n",
              "    </tr>\n",
              "    <tr>\n",
              "      <th>4</th>\n",
              "      <td>1/8/14</td>\n",
              "      <td>398.47</td>\n",
              "      <td>396.04</td>\n",
              "      <td>403.00</td>\n",
              "      <td>2316500.0</td>\n",
              "      <td>401.92</td>\n",
              "      <td>AMZN</td>\n",
              "    </tr>\n",
              "    <tr>\n",
              "      <th>...</th>\n",
              "      <td>...</td>\n",
              "      <td>...</td>\n",
              "      <td>...</td>\n",
              "      <td>...</td>\n",
              "      <td>...</td>\n",
              "      <td>...</td>\n",
              "      <td>...</td>\n",
              "    </tr>\n",
              "    <tr>\n",
              "      <th>1060</th>\n",
              "      <td>3/21/18</td>\n",
              "      <td>1586.45</td>\n",
              "      <td>1563.17</td>\n",
              "      <td>1590.00</td>\n",
              "      <td>4667291.0</td>\n",
              "      <td>1581.86</td>\n",
              "      <td>AMZN</td>\n",
              "    </tr>\n",
              "    <tr>\n",
              "      <th>1061</th>\n",
              "      <td>3/22/18</td>\n",
              "      <td>1565.47</td>\n",
              "      <td>1542.40</td>\n",
              "      <td>1573.85</td>\n",
              "      <td>6177737.0</td>\n",
              "      <td>1544.10</td>\n",
              "      <td>AMZN</td>\n",
              "    </tr>\n",
              "    <tr>\n",
              "      <th>1062</th>\n",
              "      <td>3/23/18</td>\n",
              "      <td>1539.01</td>\n",
              "      <td>1495.36</td>\n",
              "      <td>1549.02</td>\n",
              "      <td>7843966.0</td>\n",
              "      <td>1495.56</td>\n",
              "      <td>AMZN</td>\n",
              "    </tr>\n",
              "    <tr>\n",
              "      <th>1063</th>\n",
              "      <td>3/26/18</td>\n",
              "      <td>1530.00</td>\n",
              "      <td>1499.25</td>\n",
              "      <td>1556.99</td>\n",
              "      <td>5547618.0</td>\n",
              "      <td>1555.86</td>\n",
              "      <td>AMZN</td>\n",
              "    </tr>\n",
              "    <tr>\n",
              "      <th>1064</th>\n",
              "      <td>3/27/18</td>\n",
              "      <td>1572.40</td>\n",
              "      <td>1482.32</td>\n",
              "      <td>1575.96</td>\n",
              "      <td>6793279.0</td>\n",
              "      <td>1497.05</td>\n",
              "      <td>AMZN</td>\n",
              "    </tr>\n",
              "  </tbody>\n",
              "</table>\n",
              "<p>1065 rows × 7 columns</p>\n",
              "</div>"
            ],
            "text/plain": [
              "         date     open      low     high     volume    close  Name\n",
              "0      1/2/14   398.80   394.02   399.36  2137800.0   397.97  AMZN\n",
              "1      1/3/14   398.29   396.22   402.71  2210200.0   396.44  AMZN\n",
              "2      1/6/14   395.85   388.42   397.00  3170600.0   393.63  AMZN\n",
              "3      1/7/14   395.04   394.29   398.47  1916000.0   398.03  AMZN\n",
              "4      1/8/14   398.47   396.04   403.00  2316500.0   401.92  AMZN\n",
              "...       ...      ...      ...      ...        ...      ...   ...\n",
              "1060  3/21/18  1586.45  1563.17  1590.00  4667291.0  1581.86  AMZN\n",
              "1061  3/22/18  1565.47  1542.40  1573.85  6177737.0  1544.10  AMZN\n",
              "1062  3/23/18  1539.01  1495.36  1549.02  7843966.0  1495.56  AMZN\n",
              "1063  3/26/18  1530.00  1499.25  1556.99  5547618.0  1555.86  AMZN\n",
              "1064  3/27/18  1572.40  1482.32  1575.96  6793279.0  1497.05  AMZN\n",
              "\n",
              "[1065 rows x 7 columns]"
            ]
          },
          "execution_count": 7,
          "metadata": {},
          "output_type": "execute_result"
        }
      ],
      "source": [
        "#Get stock quote - we import just the opening and closing Prices of stock, over 20 years duration\n",
        "\n",
        "df=pd.read_csv(\"Combining Stock and Twitter Data/RawData/FiveYearData_AMZN.csv\")   #YYYY-MM-DD\n",
        "df"
      ]
    },
    {
      "cell_type": "code",
      "execution_count": 8,
      "metadata": {
        "colab": {
          "base_uri": "https://localhost:8080/",
          "height": 34
        },
        "colab_type": "code",
        "id": "NiTAF2f3In4A",
        "outputId": "c0a606e8-9eb9-4cc4-b168-3adb706e1399"
      },
      "outputs": [
        {
          "data": {
            "text/plain": [
              "(1065, 7)"
            ]
          },
          "execution_count": 8,
          "metadata": {},
          "output_type": "execute_result"
        }
      ],
      "source": [
        "df.shape"
      ]
    },
    {
      "cell_type": "code",
      "execution_count": 9,
      "metadata": {
        "colab": {},
        "colab_type": "code",
        "id": "BQw5ZLyKYDgB"
      },
      "outputs": [],
      "source": [
        "#choose plotting style\n",
        "\n",
        "#plt.style.use('fivethirtyeight')\n",
        "plt.style.use('dark_background')\n",
        "#plt.style.use('ggplot')\n",
        "#plt.style.use('seaborn-whitegrid')\n",
        "#plt.style.use('bmh')\n",
        "#plt.style.use('seaborn')"
      ]
    },
    {
      "cell_type": "code",
      "execution_count": 10,
      "metadata": {
        "colab": {
          "base_uri": "https://localhost:8080/",
          "height": 34
        },
        "colab_type": "code",
        "id": "dqyNcMhNUspe",
        "outputId": "024a59a1-d91e-48b9-a0b0-43d6e3c2357f"
      },
      "outputs": [
        {
          "data": {
            "text/plain": [
              "852"
            ]
          },
          "execution_count": 10,
          "metadata": {},
          "output_type": "execute_result"
        }
      ],
      "source": [
        "data=df.filter(['close'])\n",
        "\n",
        "#Convert to np array\n",
        "dataset=data.values\n",
        "\n",
        "#Get the number of rows to train the model on\n",
        "#math.ceil to round up \n",
        "\n",
        "training_data_len = math.ceil(len(dataset)*.8)\n",
        "\n",
        "\n",
        "#print(dataset)\n",
        "training_data_len"
      ]
    },
    {
      "cell_type": "code",
      "execution_count": 11,
      "metadata": {
        "colab": {
          "base_uri": "https://localhost:8080/",
          "height": 139
        },
        "colab_type": "code",
        "id": "k9IvTJCkUsp0",
        "outputId": "ca6cc8c1-8e90-4181-a8e6-1809abddf146"
      },
      "outputs": [
        {
          "data": {
            "text/plain": [
              "array([[0.08465504],\n",
              "       [0.08348838],\n",
              "       [0.0813457 ],\n",
              "       ...,\n",
              "       [0.92159001],\n",
              "       [0.96757   ],\n",
              "       [0.92272616]])"
            ]
          },
          "execution_count": 11,
          "metadata": {},
          "output_type": "execute_result"
        }
      ],
      "source": [
        "#Scale the data\n",
        "\n",
        "scaler = MinMaxScaler(feature_range=(0,1))\n",
        "scaled_data = scaler.fit_transform(dataset)\n",
        "\n",
        "scaled_data"
      ]
    },
    {
      "cell_type": "code",
      "execution_count": 12,
      "metadata": {
        "colab": {
          "base_uri": "https://localhost:8080/",
          "height": 260
        },
        "colab_type": "code",
        "id": "1Gs5vf5FUsqI",
        "outputId": "33aed46e-eb0d-492e-b132-c9e6eb75cc84"
      },
      "outputs": [
        {
          "name": "stdout",
          "output_type": "stream",
          "text": [
            "[array([0.08465504, 0.08348838, 0.0813457 , 0.08470079, 0.08766699,\n",
            "       0.0869731 , 0.08441865, 0.07932502, 0.08432715, 0.08305374,\n",
            "       0.08300037, 0.08590557, 0.09157872, 0.0896648 , 0.08610382,\n",
            "       0.0767477 , 0.07574117, 0.08195571, 0.07415513, 0.08849814,\n",
            "       0.05470323, 0.04514122, 0.04651376, 0.04536997, 0.05157689,\n",
            "       0.05652565, 0.05636552, 0.05706704, 0.04750503, 0.05356707,\n",
            "       0.05368145, 0.05086012, 0.04607912, 0.04792442, 0.04560636,\n",
            "       0.04943421, 0.05442109, 0.05554962, 0.05580126, 0.05730342,\n",
            "       0.05553437, 0.05867596, 0.06513451, 0.06497438, 0.06489813,\n",
            "       0.06373147, 0.06242756, 0.06381535, 0.06447874, 0.06617916,\n",
            "       0.06717044, 0.07001464, 0.06579028, 0.06254194, 0.05617489,\n",
            "       0.04948759, 0.0516684 , 0.04305191, 0.03928506, 0.03914781])]\n",
            "[0.0376799548587812]\n",
            "\n"
          ]
        },
        {
          "data": {
            "text/plain": [
              "792"
            ]
          },
          "execution_count": 12,
          "metadata": {},
          "output_type": "execute_result"
        }
      ],
      "source": [
        "#Create training dataset\n",
        "#Create scaled training dataset\n",
        "\n",
        "train_data = scaled_data[0:training_data_len,:]\n",
        "\n",
        "#Split the data into x_train and y_train data set\n",
        "\n",
        "x_train=[]\n",
        "y_train=[]\n",
        "\n",
        "for i in range(60, len(train_data)):\n",
        "    x_train.append(train_data[i-60:i,0])\n",
        "    y_train.append(train_data[i,0])\n",
        "    if i<=60:\n",
        "        print(x_train)\n",
        "        print(y_train)\n",
        "        print()\n",
        "\n",
        "len(x_train)"
      ]
    },
    {
      "cell_type": "code",
      "execution_count": 13,
      "metadata": {
        "colab": {},
        "colab_type": "code",
        "id": "LWJ35ZDCUsqc"
      },
      "outputs": [],
      "source": [
        "#convert the x_train and y_train to numpy arrays\n",
        "x_train, y_train = np.array(x_train), np.array(y_train)"
      ]
    },
    {
      "cell_type": "code",
      "execution_count": 14,
      "metadata": {
        "colab": {
          "base_uri": "https://localhost:8080/",
          "height": 34
        },
        "colab_type": "code",
        "id": "0sMpmm1oUsqx",
        "outputId": "bcae4586-550f-453e-9632-3d4b2a7a9849"
      },
      "outputs": [
        {
          "data": {
            "text/plain": [
              "(792, 60, 1)"
            ]
          },
          "execution_count": 14,
          "metadata": {},
          "output_type": "execute_result"
        }
      ],
      "source": [
        "#Reshape the data into 3 dimensional\n",
        "x_train = np.reshape(x_train, (x_train.shape[0], x_train.shape[1], 1))\n",
        "x_train.shape"
      ]
    },
    {
      "cell_type": "markdown",
      "metadata": {
        "colab_type": "text",
        "id": "UNs1SsjiOAAp"
      },
      "source": [
        "## Model training "
      ]
    },
    {
      "cell_type": "code",
      "execution_count": 15,
      "metadata": {
        "colab": {},
        "colab_type": "code",
        "id": "Y6RwuEFPIn6_"
      },
      "outputs": [
        {
          "name": "stderr",
          "output_type": "stream",
          "text": [
            "2024-04-30 17:08:47.655727: I external/local_xla/xla/stream_executor/cuda/cuda_executor.cc:998] successful NUMA node read from SysFS had negative value (-1), but there must be at least one NUMA node, so returning NUMA node zero. See more at https://github.com/torvalds/linux/blob/v6.0/Documentation/ABI/testing/sysfs-bus-pci#L344-L355\n",
            "2024-04-30 17:08:47.655976: W tensorflow/core/common_runtime/gpu/gpu_device.cc:2251] Cannot dlopen some GPU libraries. Please make sure the missing libraries mentioned above are installed properly if you would like to use GPU. Follow the guide at https://www.tensorflow.org/install/gpu for how to download and setup the required libraries for your platform.\n",
            "Skipping registering GPU devices...\n",
            "/home/netradeepakc/anaconda3/envs/RecSys/lib/python3.11/site-packages/keras/src/layers/rnn/rnn.py:204: UserWarning: Do not pass an `input_shape`/`input_dim` argument to a layer. When using Sequential models, prefer using an `Input(shape)` object as the first layer in the model instead.\n",
            "  super().__init__(**kwargs)\n"
          ]
        }
      ],
      "source": [
        "#Build LSTM model\n",
        "model=Sequential()\n",
        "#Add first layer to model\n",
        "model.add(LSTM(50, return_sequences=True, input_shape=(x_train.shape[1],1)))\n",
        "#Add second layer to model\n",
        "model.add(LSTM(50, return_sequences=False))\n",
        "#Add Dense Layer to model with 25 neurons\n",
        "model.add(Dense(25))\n",
        "#Add Dense Layer to model with 1 neuron\n",
        "model.add(Dense(1))"
      ]
    },
    {
      "cell_type": "code",
      "execution_count": 16,
      "metadata": {
        "colab": {},
        "colab_type": "code",
        "id": "ryE2rTOMIn7X"
      },
      "outputs": [],
      "source": [
        "#Compile the model\n",
        "model.compile(optimizer='adam', loss='mean_squared_error')\n"
      ]
    },
    {
      "cell_type": "code",
      "execution_count": 17,
      "metadata": {
        "colab": {
          "base_uri": "https://localhost:8080/",
          "height": 139
        },
        "colab_type": "code",
        "id": "vmAwD6mUIn7r",
        "outputId": "7b18a6da-0449-4b35-d6e0-f655449c2541"
      },
      "outputs": [
        {
          "name": "stdout",
          "output_type": "stream",
          "text": [
            "Epoch 1/3\n"
          ]
        },
        {
          "name": "stdout",
          "output_type": "stream",
          "text": [
            "\u001b[1m792/792\u001b[0m \u001b[32m━━━━━━━━━━━━━━━━━━━━\u001b[0m\u001b[37m\u001b[0m \u001b[1m7s\u001b[0m 7ms/step - loss: 0.0032\n",
            "Epoch 2/3\n",
            "\u001b[1m792/792\u001b[0m \u001b[32m━━━━━━━━━━━━━━━━━━━━\u001b[0m\u001b[37m\u001b[0m \u001b[1m5s\u001b[0m 7ms/step - loss: 6.2999e-04\n",
            "Epoch 3/3\n",
            "\u001b[1m792/792\u001b[0m \u001b[32m━━━━━━━━━━━━━━━━━━━━\u001b[0m\u001b[37m\u001b[0m \u001b[1m5s\u001b[0m 7ms/step - loss: 3.3575e-04\n"
          ]
        },
        {
          "data": {
            "text/plain": [
              "<keras.src.callbacks.history.History at 0x7ff7bf10a250>"
            ]
          },
          "execution_count": 17,
          "metadata": {},
          "output_type": "execute_result"
        }
      ],
      "source": [
        "#Train the model\n",
        "model.fit(x_train, y_train, batch_size=1,epochs=3 )"
      ]
    },
    {
      "cell_type": "markdown",
      "metadata": {
        "colab_type": "text",
        "id": "-__xdsJ_OKUg"
      },
      "source": [
        "## Testing and Validating model"
      ]
    },
    {
      "cell_type": "code",
      "execution_count": 18,
      "metadata": {
        "colab": {},
        "colab_type": "code",
        "id": "QlX9uNw3In8R"
      },
      "outputs": [],
      "source": [
        "#Create the test data set\n",
        "#Create a new array containing scaled values\n",
        "\n",
        "test_data=scaled_data[training_data_len-60: , : ]\n",
        "#Create the data sets x_test and y_test\n",
        "\n",
        "x_test=[]\n",
        "y_test=dataset[training_data_len:,:]\n",
        "for i in range(60, len(test_data)):\n",
        "    x_test.append(test_data[i-60:i,0])\n",
        "    \n"
      ]
    },
    {
      "cell_type": "code",
      "execution_count": 19,
      "metadata": {
        "colab": {},
        "colab_type": "code",
        "id": "9GWP-0_DIn8z"
      },
      "outputs": [],
      "source": [
        "#Convert the data to a numpy array\n",
        "\n",
        "x_test=np.array(x_test)\n"
      ]
    },
    {
      "cell_type": "code",
      "execution_count": 20,
      "metadata": {
        "colab": {},
        "colab_type": "code",
        "id": "0ogsB0ZdIn9J"
      },
      "outputs": [],
      "source": [
        "#Reshape the data to 3d\n",
        "x_test=np.reshape(x_test,(x_test.shape[0], x_test.shape[1], 1))\n"
      ]
    },
    {
      "cell_type": "code",
      "execution_count": 21,
      "metadata": {
        "colab": {},
        "colab_type": "code",
        "id": "Yud6qyU6In9Z"
      },
      "outputs": [
        {
          "name": "stdout",
          "output_type": "stream",
          "text": [
            "\u001b[1m7/7\u001b[0m \u001b[32m━━━━━━━━━━━━━━━━━━━━\u001b[0m\u001b[37m\u001b[0m \u001b[1m0s\u001b[0m 24ms/step\n"
          ]
        }
      ],
      "source": [
        "#Get the models predicted price values\n",
        "\n",
        "predictions=model.predict(x_test)\n",
        "predictions=scaler.inverse_transform(predictions)\n"
      ]
    },
    {
      "cell_type": "code",
      "execution_count": 22,
      "metadata": {
        "colab": {
          "base_uri": "https://localhost:8080/",
          "height": 34
        },
        "colab_type": "code",
        "id": "2mlIpi4VIn9z",
        "outputId": "eef440c9-48d7-4435-9f00-798a6ede7d27"
      },
      "outputs": [
        {
          "data": {
            "text/plain": [
              "nan"
            ]
          },
          "execution_count": 22,
          "metadata": {},
          "output_type": "execute_result"
        }
      ],
      "source": [
        "#Get root mean squared error(RMSE)\n",
        "\n",
        "rmse =np.sqrt(np.mean(predictions-y_test)**2)\n",
        "rmse\n",
        "\n"
      ]
    },
    {
      "cell_type": "code",
      "execution_count": 23,
      "metadata": {
        "colab": {},
        "colab_type": "code",
        "id": "yBbVWNWSaGgT"
      },
      "outputs": [],
      "source": [
        "#choose plotting style\n",
        "\n",
        "#plt.style.use('fivethirtyeight')\n",
        "plt.style.use('dark_background')\n",
        "#plt.style.use('ggplot')\n",
        "#plt.style.use('seaborn-whitegrid')\n",
        "#plt.style.use('bmh')\n",
        "#plt.style.use('seaborn')"
      ]
    },
    {
      "cell_type": "code",
      "execution_count": 24,
      "metadata": {
        "colab": {
          "base_uri": "https://localhost:8080/",
          "height": 625
        },
        "colab_type": "code",
        "id": "dpG0ZTlAIn-G",
        "outputId": "a5fff0a2-b165-4557-b2a0-b525536191e3",
        "scrolled": true
      },
      "outputs": [
        {
          "name": "stderr",
          "output_type": "stream",
          "text": [
            "/tmp/ipykernel_124593/389461932.py:5: SettingWithCopyWarning: \n",
            "A value is trying to be set on a copy of a slice from a DataFrame.\n",
            "Try using .loc[row_indexer,col_indexer] = value instead\n",
            "\n",
            "See the caveats in the documentation: https://pandas.pydata.org/pandas-docs/stable/user_guide/indexing.html#returning-a-view-versus-a-copy\n",
            "  valid['predictions'] = predictions\n"
          ]
        },
        {
          "ename": "KeyError",
          "evalue": "'Close'",
          "output_type": "error",
          "traceback": [
            "\u001b[0;31m---------------------------------------------------------------------------\u001b[0m",
            "\u001b[0;31mKeyError\u001b[0m                                  Traceback (most recent call last)",
            "File \u001b[0;32m~/anaconda3/envs/RecSys/lib/python3.11/site-packages/pandas/core/indexes/base.py:3805\u001b[0m, in \u001b[0;36mIndex.get_loc\u001b[0;34m(self, key)\u001b[0m\n\u001b[1;32m   3804\u001b[0m \u001b[38;5;28;01mtry\u001b[39;00m:\n\u001b[0;32m-> 3805\u001b[0m     \u001b[38;5;28;01mreturn\u001b[39;00m \u001b[38;5;28;43mself\u001b[39;49m\u001b[38;5;241;43m.\u001b[39;49m\u001b[43m_engine\u001b[49m\u001b[38;5;241;43m.\u001b[39;49m\u001b[43mget_loc\u001b[49m\u001b[43m(\u001b[49m\u001b[43mcasted_key\u001b[49m\u001b[43m)\u001b[49m\n\u001b[1;32m   3806\u001b[0m \u001b[38;5;28;01mexcept\u001b[39;00m \u001b[38;5;167;01mKeyError\u001b[39;00m \u001b[38;5;28;01mas\u001b[39;00m err:\n",
            "File \u001b[0;32mindex.pyx:167\u001b[0m, in \u001b[0;36mpandas._libs.index.IndexEngine.get_loc\u001b[0;34m()\u001b[0m\n",
            "File \u001b[0;32mindex.pyx:196\u001b[0m, in \u001b[0;36mpandas._libs.index.IndexEngine.get_loc\u001b[0;34m()\u001b[0m\n",
            "File \u001b[0;32mpandas/_libs/hashtable_class_helper.pxi:7081\u001b[0m, in \u001b[0;36mpandas._libs.hashtable.PyObjectHashTable.get_item\u001b[0;34m()\u001b[0m\n",
            "File \u001b[0;32mpandas/_libs/hashtable_class_helper.pxi:7089\u001b[0m, in \u001b[0;36mpandas._libs.hashtable.PyObjectHashTable.get_item\u001b[0;34m()\u001b[0m\n",
            "\u001b[0;31mKeyError\u001b[0m: 'Close'",
            "\nThe above exception was the direct cause of the following exception:\n",
            "\u001b[0;31mKeyError\u001b[0m                                  Traceback (most recent call last)",
            "Cell \u001b[0;32mIn[24], line 12\u001b[0m\n\u001b[1;32m     10\u001b[0m plt\u001b[38;5;241m.\u001b[39mxlabel(\u001b[38;5;124m'\u001b[39m\u001b[38;5;124mDate\u001b[39m\u001b[38;5;124m'\u001b[39m, fontsize\u001b[38;5;241m=\u001b[39m\u001b[38;5;241m18\u001b[39m)\n\u001b[1;32m     11\u001b[0m plt\u001b[38;5;241m.\u001b[39mylabel(\u001b[38;5;124m'\u001b[39m\u001b[38;5;124mClose Price USD($)\u001b[39m\u001b[38;5;124m'\u001b[39m, fontsize\u001b[38;5;241m=\u001b[39m\u001b[38;5;241m18\u001b[39m)\n\u001b[0;32m---> 12\u001b[0m plt\u001b[38;5;241m.\u001b[39mplot(\u001b[43mtrain\u001b[49m\u001b[43m[\u001b[49m\u001b[38;5;124;43m'\u001b[39;49m\u001b[38;5;124;43mClose\u001b[39;49m\u001b[38;5;124;43m'\u001b[39;49m\u001b[43m]\u001b[49m , color\u001b[38;5;241m=\u001b[39m\u001b[38;5;124m'\u001b[39m\u001b[38;5;124mred\u001b[39m\u001b[38;5;124m'\u001b[39m)\n\u001b[1;32m     13\u001b[0m plt\u001b[38;5;241m.\u001b[39mplot(valid[\u001b[38;5;124m'\u001b[39m\u001b[38;5;124mClose\u001b[39m\u001b[38;5;124m'\u001b[39m] , color\u001b[38;5;241m=\u001b[39m\u001b[38;5;124m'\u001b[39m\u001b[38;5;124myellow\u001b[39m\u001b[38;5;124m'\u001b[39m)\n\u001b[1;32m     14\u001b[0m plt\u001b[38;5;241m.\u001b[39mplot(valid[ \u001b[38;5;124m'\u001b[39m\u001b[38;5;124mpredictions\u001b[39m\u001b[38;5;124m'\u001b[39m] , color\u001b[38;5;241m=\u001b[39m\u001b[38;5;124m'\u001b[39m\u001b[38;5;124mgreen\u001b[39m\u001b[38;5;124m'\u001b[39m)\n",
            "File \u001b[0;32m~/anaconda3/envs/RecSys/lib/python3.11/site-packages/pandas/core/frame.py:4102\u001b[0m, in \u001b[0;36mDataFrame.__getitem__\u001b[0;34m(self, key)\u001b[0m\n\u001b[1;32m   4100\u001b[0m \u001b[38;5;28;01mif\u001b[39;00m \u001b[38;5;28mself\u001b[39m\u001b[38;5;241m.\u001b[39mcolumns\u001b[38;5;241m.\u001b[39mnlevels \u001b[38;5;241m>\u001b[39m \u001b[38;5;241m1\u001b[39m:\n\u001b[1;32m   4101\u001b[0m     \u001b[38;5;28;01mreturn\u001b[39;00m \u001b[38;5;28mself\u001b[39m\u001b[38;5;241m.\u001b[39m_getitem_multilevel(key)\n\u001b[0;32m-> 4102\u001b[0m indexer \u001b[38;5;241m=\u001b[39m \u001b[38;5;28;43mself\u001b[39;49m\u001b[38;5;241;43m.\u001b[39;49m\u001b[43mcolumns\u001b[49m\u001b[38;5;241;43m.\u001b[39;49m\u001b[43mget_loc\u001b[49m\u001b[43m(\u001b[49m\u001b[43mkey\u001b[49m\u001b[43m)\u001b[49m\n\u001b[1;32m   4103\u001b[0m \u001b[38;5;28;01mif\u001b[39;00m is_integer(indexer):\n\u001b[1;32m   4104\u001b[0m     indexer \u001b[38;5;241m=\u001b[39m [indexer]\n",
            "File \u001b[0;32m~/anaconda3/envs/RecSys/lib/python3.11/site-packages/pandas/core/indexes/base.py:3812\u001b[0m, in \u001b[0;36mIndex.get_loc\u001b[0;34m(self, key)\u001b[0m\n\u001b[1;32m   3807\u001b[0m     \u001b[38;5;28;01mif\u001b[39;00m \u001b[38;5;28misinstance\u001b[39m(casted_key, \u001b[38;5;28mslice\u001b[39m) \u001b[38;5;129;01mor\u001b[39;00m (\n\u001b[1;32m   3808\u001b[0m         \u001b[38;5;28misinstance\u001b[39m(casted_key, abc\u001b[38;5;241m.\u001b[39mIterable)\n\u001b[1;32m   3809\u001b[0m         \u001b[38;5;129;01mand\u001b[39;00m \u001b[38;5;28many\u001b[39m(\u001b[38;5;28misinstance\u001b[39m(x, \u001b[38;5;28mslice\u001b[39m) \u001b[38;5;28;01mfor\u001b[39;00m x \u001b[38;5;129;01min\u001b[39;00m casted_key)\n\u001b[1;32m   3810\u001b[0m     ):\n\u001b[1;32m   3811\u001b[0m         \u001b[38;5;28;01mraise\u001b[39;00m InvalidIndexError(key)\n\u001b[0;32m-> 3812\u001b[0m     \u001b[38;5;28;01mraise\u001b[39;00m \u001b[38;5;167;01mKeyError\u001b[39;00m(key) \u001b[38;5;28;01mfrom\u001b[39;00m \u001b[38;5;21;01merr\u001b[39;00m\n\u001b[1;32m   3813\u001b[0m \u001b[38;5;28;01mexcept\u001b[39;00m \u001b[38;5;167;01mTypeError\u001b[39;00m:\n\u001b[1;32m   3814\u001b[0m     \u001b[38;5;66;03m# If we have a listlike key, _check_indexing_error will raise\u001b[39;00m\n\u001b[1;32m   3815\u001b[0m     \u001b[38;5;66;03m#  InvalidIndexError. Otherwise we fall through and re-raise\u001b[39;00m\n\u001b[1;32m   3816\u001b[0m     \u001b[38;5;66;03m#  the TypeError.\u001b[39;00m\n\u001b[1;32m   3817\u001b[0m     \u001b[38;5;28mself\u001b[39m\u001b[38;5;241m.\u001b[39m_check_indexing_error(key)\n",
            "\u001b[0;31mKeyError\u001b[0m: 'Close'"
          ]
        },
        {
          "data": {
            "image/png": "[encoded data removed]",
            "text/plain": [
              "<Figure size 1600x800 with 1 Axes>"
            ]
          },
          "metadata": {},
          "output_type": "display_data"
        }
      ],
      "source": [
        "#plot the data\n",
        "\n",
        "train=data[:training_data_len]\n",
        "valid=data[training_data_len:]\n",
        "valid['predictions'] = predictions\n",
        "\n",
        "#Visualize the data\n",
        "plt.figure(figsize=(16,8))\n",
        "plt.title('Model prediciton results - AMAZON shares')\n",
        "plt.xlabel('Date', fontsize=18)\n",
        "plt.ylabel('Close Price USD($)', fontsize=18)\n",
        "plt.plot(train['Close'] , color='red')\n",
        "plt.plot(valid['Close'] , color='yellow')\n",
        "plt.plot(valid[ 'predictions'] , color='green')\n",
        "plt.legend(['Train','Validation', 'predictions'], loc='lower right')\n",
        "plt.savefig('/content/prediction.png')\n",
        "plt.show()"
      ]
    },
    {
      "cell_type": "code",
      "execution_count": null,
      "metadata": {
        "colab": {
          "base_uri": "https://localhost:8080/",
          "height": 551
        },
        "colab_type": "code",
        "id": "9IZAwTwYIn-Y",
        "outputId": "3e920d38-e5b2-47b7-ec58-1ce03e39053f"
      },
      "outputs": [
        {
          "data": {
            "text/html": [
              "<div>\n",
              "<style scoped>\n",
              "    .dataframe tbody tr th:only-of-type {\n",
              "        vertical-align: middle;\n",
              "    }\n",
              "\n",
              "    .dataframe tbody tr th {\n",
              "        vertical-align: top;\n",
              "    }\n",
              "\n",
              "    .dataframe thead th {\n",
              "        text-align: right;\n",
              "    }\n",
              "</style>\n",
              "<table border=\"1\" class=\"dataframe\">\n",
              "  <thead>\n",
              "    <tr style=\"text-align: right;\">\n",
              "      <th></th>\n",
              "      <th>Close</th>\n",
              "      <th>predictions</th>\n",
              "    </tr>\n",
              "    <tr>\n",
              "      <th>Date</th>\n",
              "      <th></th>\n",
              "      <th></th>\n",
              "    </tr>\n",
              "  </thead>\n",
              "  <tbody>\n",
              "    <tr>\n",
              "      <th>2020-05-04</th>\n",
              "      <td>2315.989990</td>\n",
              "      <td>2353.478760</td>\n",
              "    </tr>\n",
              "    <tr>\n",
              "      <th>2020-05-05</th>\n",
              "      <td>2317.800049</td>\n",
              "      <td>2339.276611</td>\n",
              "    </tr>\n",
              "    <tr>\n",
              "      <th>2020-05-06</th>\n",
              "      <td>2351.260010</td>\n",
              "      <td>2327.780029</td>\n",
              "    </tr>\n",
              "    <tr>\n",
              "      <th>2020-05-07</th>\n",
              "      <td>2367.610107</td>\n",
              "      <td>2326.094238</td>\n",
              "    </tr>\n",
              "    <tr>\n",
              "      <th>2020-05-08</th>\n",
              "      <td>2379.610107</td>\n",
              "      <td>2330.867188</td>\n",
              "    </tr>\n",
              "    <tr>\n",
              "      <th>2020-05-11</th>\n",
              "      <td>2409.000000</td>\n",
              "      <td>2339.045166</td>\n",
              "    </tr>\n",
              "    <tr>\n",
              "      <th>2020-05-12</th>\n",
              "      <td>2356.949951</td>\n",
              "      <td>2352.319580</td>\n",
              "    </tr>\n",
              "    <tr>\n",
              "      <th>2020-05-13</th>\n",
              "      <td>2367.919922</td>\n",
              "      <td>2354.082520</td>\n",
              "    </tr>\n",
              "    <tr>\n",
              "      <th>2020-05-14</th>\n",
              "      <td>2388.850098</td>\n",
              "      <td>2354.481934</td>\n",
              "    </tr>\n",
              "    <tr>\n",
              "      <th>2020-05-15</th>\n",
              "      <td>2409.780029</td>\n",
              "      <td>2358.229980</td>\n",
              "    </tr>\n",
              "    <tr>\n",
              "      <th>2020-05-18</th>\n",
              "      <td>2426.260010</td>\n",
              "      <td>2366.129639</td>\n",
              "    </tr>\n",
              "    <tr>\n",
              "      <th>2020-05-19</th>\n",
              "      <td>2449.330078</td>\n",
              "      <td>2376.743896</td>\n",
              "    </tr>\n",
              "    <tr>\n",
              "      <th>2020-05-20</th>\n",
              "      <td>2497.939941</td>\n",
              "      <td>2390.372314</td>\n",
              "    </tr>\n",
              "    <tr>\n",
              "      <th>2020-05-21</th>\n",
              "      <td>2446.739990</td>\n",
              "      <td>2411.365234</td>\n",
              "    </tr>\n",
              "    <tr>\n",
              "      <th>2020-05-22</th>\n",
              "      <td>2436.879883</td>\n",
              "      <td>2419.855469</td>\n",
              "    </tr>\n",
              "  </tbody>\n",
              "</table>\n",
              "</div>"
            ],
            "text/plain": [
              "                  Close  predictions\n",
              "Date                                \n",
              "2020-05-04  2315.989990  2353.478760\n",
              "2020-05-05  2317.800049  2339.276611\n",
              "2020-05-06  2351.260010  2327.780029\n",
              "2020-05-07  2367.610107  2326.094238\n",
              "2020-05-08  2379.610107  2330.867188\n",
              "2020-05-11  2409.000000  2339.045166\n",
              "2020-05-12  2356.949951  2352.319580\n",
              "2020-05-13  2367.919922  2354.082520\n",
              "2020-05-14  2388.850098  2354.481934\n",
              "2020-05-15  2409.780029  2358.229980\n",
              "2020-05-18  2426.260010  2366.129639\n",
              "2020-05-19  2449.330078  2376.743896\n",
              "2020-05-20  2497.939941  2390.372314\n",
              "2020-05-21  2446.739990  2411.365234\n",
              "2020-05-22  2436.879883  2419.855469"
            ]
          },
          "execution_count": 49,
          "metadata": {
            "tags": []
          },
          "output_type": "execute_result"
        }
      ],
      "source": [
        "#Show the valid and predicted prices\n",
        "\n",
        "valid.tail(15)"
      ]
    },
    {
      "cell_type": "markdown",
      "metadata": {
        "colab_type": "text",
        "id": "EwVZro2_OFLH"
      },
      "source": [
        "# Getting predicitions - for tomorrow"
      ]
    },
    {
      "cell_type": "code",
      "execution_count": null,
      "metadata": {
        "colab": {
          "base_uri": "https://localhost:8080/",
          "height": 34
        },
        "colab_type": "code",
        "id": "GXS4uLtRIn-s",
        "outputId": "c84309e5-1594-4817-be4d-22c494807bf0"
      },
      "outputs": [
        {
          "name": "stdout",
          "output_type": "stream",
          "text": [
            "Price of AMZN tomorrow:[[2421.2363]]\n"
          ]
        }
      ],
      "source": [
        "#Get the quote\n",
        "stock_quote = web.DataReader(ticker, data_source='yahoo', start='2012-01-01', end='2020-05-25')\n",
        "\n",
        "new_df=stock_quote.filter(['Close'])\n",
        "#Get last 60 days values and convert into array\n",
        "last_60_days=new_df[-60:].values\n",
        "\n",
        "#Scale the data to be values between 0\n",
        "last_60_days_scaled=scaler.transform(last_60_days)\n",
        "\n",
        "#Create an empty list\n",
        "X_test=[]\n",
        "#Appemd the past 60days\n",
        "X_test.append(last_60_days_scaled)\n",
        "\n",
        "#Conver the X_test data into numpy array\n",
        "X_test = np.array(X_test)\n",
        "\n",
        "#Reshape the data\n",
        "X_test = np.reshape(X_test, (X_test.shape[0], X_test.shape[1],1))\n",
        "#Get predicted scaled price\n",
        "pred_price = model.predict(X_test)\n",
        "#undo the scaling\n",
        "pred_price=scaler.inverse_transform(pred_price)\n",
        "print(f'Price of {ticker} tomorrow:{pred_price}')"
      ]
    },
    {
      "cell_type": "markdown",
      "metadata": {
        "colab_type": "text",
        "id": "RfFPY58dPFDp"
      },
      "source": [
        "## Getting predicitions for 2 months from now ?"
      ]
    },
    {
      "cell_type": "code",
      "execution_count": null,
      "metadata": {
        "colab": {},
        "colab_type": "code",
        "id": "dCzyvO2LO5cI"
      },
      "outputs": [],
      "source": [
        "#Get the quote\n",
        "stock_quote = web.DataReader(ticker, data_source='yahoo', start='2012-01-01', end='2020-05-24')\n",
        "\n",
        "new_df=stock_quote.filter(['Open'])\n",
        "#Get last 60 days values and convert into array\n",
        "last_60_days=new_df[-60:].values\n",
        "\n",
        "#Scale the data to be values between 0\n",
        "last_60_days_scaled=scaler.transform(last_60_days)\n",
        "\n",
        "#Create an empty list\n",
        "X_test=[]\n",
        "#Appemd the past 60days\n",
        "X_test.append(last_60_days_scaled)\n",
        "\n",
        "#Conver the X_test data into numpy array\n",
        "X_test = np.array(X_test)\n",
        "\n",
        "#Reshape the data\n",
        "X_test = np.reshape(X_test, (X_test.shape[0], X_test.shape[1],1))\n",
        "#Get predicted scaled price\n",
        "pred_price = model.predict(X_test)\n",
        "#undo the scaling\n",
        "pred_price=scaler.inverse_transform(pred_price)\n",
        "print(f'Opening Price of {ticker} tomorrow:{pred_price}')"
      ]
    }
  ],
  "metadata": {
    "colab": {
      "collapsed_sections": [
        "RfFPY58dPFDp"
      ],
      "name": "Closing_Price_Prediction- Keras.ipynb",
      "provenance": []
    },
    "kernelspec": {
      "display_name": "Python 3",
      "language": "python",
      "name": "python3"
    },
    "language_info": {
      "codemirror_mode": {
        "name": "ipython",
        "version": 3
      },
      "file_extension": ".py",
      "mimetype": "text/x-python",
      "name": "python",
      "nbconvert_exporter": "python",
      "pygments_lexer": "ipython3",
      "version": "3.11.9"
    }
  },
  "nbformat": 4,
  "nbformat_minor": 0
}
