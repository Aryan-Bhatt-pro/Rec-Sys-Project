{
  "cells": [
    {
      "cell_type": "markdown",
      "metadata": {
        "colab_type": "text",
        "id": "esCkMaP7JXew"
      },
      "source": [
        "# Long Short Term Memory(LSTM) based - Stock predicition - # CPU based\n",
        "\n",
        "Aim -to predict the Opening stock price using past 60 day stock price.\n",
        "\n"
      ]
    },
    {
      "cell_type": "code",
      "execution_count": 8,
      "metadata": {
        "colab": {
          "base_uri": "https://localhost:8080/",
          "height": 89
        },
        "colab_type": "code",
        "id": "dwSlgPvaIn2D",
        "outputId": "955e1b24-bf4d-482c-8fe9-903c773a6b42"
      },
      "outputs": [],
      "source": [
        "import math\n",
        "import numpy as np\n",
        "import pandas as pd\n",
        "import pandas_datareader as pdr\n",
        "#from sklearn.tree import DecisionTreeRegressor\n",
        "#from sklearn.linear_model import LinearRegression\n",
        "#from sklearn.model_selection import train_test_split\n",
        "from sklearn.preprocessing import MinMaxScaler\n",
        "from keras.models import Sequential\n",
        "from keras.layers import Dense, LSTM\n",
        "import matplotlib.pyplot as plt\n",
        "\n"
      ]
    },
    {
      "cell_type": "markdown",
      "metadata": {
        "colab_type": "text",
        "id": "yHHY9g9hObTw"
      },
      "source": [
        "## Data prep"
      ]
    },
    {
      "cell_type": "markdown",
      "metadata": {
        "colab_type": "text",
        "id": "_T2gT-IgObT2"
      },
      "source": [
        "Works on Yahoo based data. (Doesnt contain Indian stock values) "
      ]
    },
    {
      "cell_type": "code",
      "execution_count": 11,
      "metadata": {
        "colab": {},
        "colab_type": "code",
        "id": "O6xbDvInObUO"
      },
      "outputs": [],
      "source": [
        "ticker = 'AMZN'  #amazon  start=   end = current date"
      ]
    },
    {
      "cell_type": "code",
      "execution_count": 4,
      "metadata": {
        "colab": {},
        "colab_type": "code",
        "id": "ciN6kpMsObT6"
      },
      "outputs": [],
      "source": [
        "ticker = 'TSLA'  #Tesla start=   end = current date"
      ]
    },
    {
      "cell_type": "code",
      "execution_count": 5,
      "metadata": {
        "colab": {},
        "colab_type": "code",
        "id": "iIpMmvfdObUs"
      },
      "outputs": [],
      "source": [
        "ticker = 'UBER'  #Uber start=   end = current date"
      ]
    },
    {
      "cell_type": "code",
      "execution_count": 6,
      "metadata": {
        "colab": {},
        "colab_type": "code",
        "id": "bZVF-_oVObU-"
      },
      "outputs": [],
      "source": [
        "ticker = 'TSLA'  #Tesla start=   end = current date"
      ]
    },
    {
      "cell_type": "markdown",
      "metadata": {
        "colab_type": "text",
        "id": "xACXUNdXObVR"
      },
      "source": [
        "Change start and end date for collection, as per Company.  (Start date cant be before the company was founded.)\n",
        "\n",
        "Different approaches can be used for Date collection - \n",
        "\n",
        "\n",
        "1.   Pretrain on 20+ year dataset, finetune for local\n",
        "2.   Event specific timings - As in 2020, covid may lead to a new stock trading pattern.\n",
        "\n"
      ]
    },
    {
      "cell_type": "code",
      "execution_count": 13,
      "metadata": {
        "colab": {
          "base_uri": "https://localhost:8080/",
          "height": 455
        },
        "colab_type": "code",
        "id": "VnjvByqHIn3g",
        "outputId": "6a35373f-dcab-46fb-fa99-852c3633eacb"
      },
      "outputs": [
        {
          "data": {
            "text/html": [
              "<div>\n",
              "<style scoped>\n",
              "    .dataframe tbody tr th:only-of-type {\n",
              "        vertical-align: middle;\n",
              "    }\n",
              "\n",
              "    .dataframe tbody tr th {\n",
              "        vertical-align: top;\n",
              "    }\n",
              "\n",
              "    .dataframe thead th {\n",
              "        text-align: right;\n",
              "    }\n",
              "</style>\n",
              "<table border=\"1\" class=\"dataframe\">\n",
              "  <thead>\n",
              "    <tr style=\"text-align: right;\">\n",
              "      <th></th>\n",
              "      <th>date</th>\n",
              "      <th>open</th>\n",
              "      <th>high</th>\n",
              "      <th>low</th>\n",
              "      <th>close</th>\n",
              "      <th>volume</th>\n",
              "      <th>Name</th>\n",
              "    </tr>\n",
              "  </thead>\n",
              "  <tbody>\n",
              "    <tr>\n",
              "      <th>0</th>\n",
              "      <td>2013-02-08</td>\n",
              "      <td>21.1699</td>\n",
              "      <td>21.300</td>\n",
              "      <td>21.13</td>\n",
              "      <td>21.16</td>\n",
              "      <td>23056853</td>\n",
              "      <td>CSCO</td>\n",
              "    </tr>\n",
              "    <tr>\n",
              "      <th>1</th>\n",
              "      <td>2013-02-11</td>\n",
              "      <td>21.2400</td>\n",
              "      <td>21.340</td>\n",
              "      <td>21.15</td>\n",
              "      <td>21.27</td>\n",
              "      <td>33551332</td>\n",
              "      <td>CSCO</td>\n",
              "    </tr>\n",
              "    <tr>\n",
              "      <th>2</th>\n",
              "      <td>2013-02-12</td>\n",
              "      <td>21.2500</td>\n",
              "      <td>21.270</td>\n",
              "      <td>20.94</td>\n",
              "      <td>20.97</td>\n",
              "      <td>46456472</td>\n",
              "      <td>CSCO</td>\n",
              "    </tr>\n",
              "    <tr>\n",
              "      <th>3</th>\n",
              "      <td>2013-02-13</td>\n",
              "      <td>21.0000</td>\n",
              "      <td>21.140</td>\n",
              "      <td>20.93</td>\n",
              "      <td>21.14</td>\n",
              "      <td>63085496</td>\n",
              "      <td>CSCO</td>\n",
              "    </tr>\n",
              "    <tr>\n",
              "      <th>4</th>\n",
              "      <td>2013-02-14</td>\n",
              "      <td>20.8800</td>\n",
              "      <td>21.000</td>\n",
              "      <td>20.51</td>\n",
              "      <td>20.99</td>\n",
              "      <td>67158759</td>\n",
              "      <td>CSCO</td>\n",
              "    </tr>\n",
              "    <tr>\n",
              "      <th>...</th>\n",
              "      <td>...</td>\n",
              "      <td>...</td>\n",
              "      <td>...</td>\n",
              "      <td>...</td>\n",
              "      <td>...</td>\n",
              "      <td>...</td>\n",
              "      <td>...</td>\n",
              "    </tr>\n",
              "    <tr>\n",
              "      <th>1254</th>\n",
              "      <td>2018-02-01</td>\n",
              "      <td>41.0900</td>\n",
              "      <td>42.110</td>\n",
              "      <td>40.67</td>\n",
              "      <td>41.70</td>\n",
              "      <td>26148507</td>\n",
              "      <td>CSCO</td>\n",
              "    </tr>\n",
              "    <tr>\n",
              "      <th>1255</th>\n",
              "      <td>2018-02-02</td>\n",
              "      <td>41.5000</td>\n",
              "      <td>41.950</td>\n",
              "      <td>40.87</td>\n",
              "      <td>40.93</td>\n",
              "      <td>27224206</td>\n",
              "      <td>CSCO</td>\n",
              "    </tr>\n",
              "    <tr>\n",
              "      <th>1256</th>\n",
              "      <td>2018-02-05</td>\n",
              "      <td>40.8700</td>\n",
              "      <td>41.405</td>\n",
              "      <td>38.72</td>\n",
              "      <td>38.78</td>\n",
              "      <td>52399572</td>\n",
              "      <td>CSCO</td>\n",
              "    </tr>\n",
              "    <tr>\n",
              "      <th>1257</th>\n",
              "      <td>2018-02-06</td>\n",
              "      <td>38.3300</td>\n",
              "      <td>40.305</td>\n",
              "      <td>37.35</td>\n",
              "      <td>40.17</td>\n",
              "      <td>55171559</td>\n",
              "      <td>CSCO</td>\n",
              "    </tr>\n",
              "    <tr>\n",
              "      <th>1258</th>\n",
              "      <td>2018-02-07</td>\n",
              "      <td>40.3100</td>\n",
              "      <td>41.206</td>\n",
              "      <td>40.03</td>\n",
              "      <td>40.34</td>\n",
              "      <td>32690837</td>\n",
              "      <td>CSCO</td>\n",
              "    </tr>\n",
              "  </tbody>\n",
              "</table>\n",
              "<p>1259 rows × 7 columns</p>\n",
              "</div>"
            ],
            "text/plain": [
              "            date     open    high    low  close    volume  Name\n",
              "0     2013-02-08  21.1699  21.300  21.13  21.16  23056853  CSCO\n",
              "1     2013-02-11  21.2400  21.340  21.15  21.27  33551332  CSCO\n",
              "2     2013-02-12  21.2500  21.270  20.94  20.97  46456472  CSCO\n",
              "3     2013-02-13  21.0000  21.140  20.93  21.14  63085496  CSCO\n",
              "4     2013-02-14  20.8800  21.000  20.51  20.99  67158759  CSCO\n",
              "...          ...      ...     ...    ...    ...       ...   ...\n",
              "1254  2018-02-01  41.0900  42.110  40.67  41.70  26148507  CSCO\n",
              "1255  2018-02-02  41.5000  41.950  40.87  40.93  27224206  CSCO\n",
              "1256  2018-02-05  40.8700  41.405  38.72  38.78  52399572  CSCO\n",
              "1257  2018-02-06  38.3300  40.305  37.35  40.17  55171559  CSCO\n",
              "1258  2018-02-07  40.3100  41.206  40.03  40.34  32690837  CSCO\n",
              "\n",
              "[1259 rows x 7 columns]"
            ]
          },
          "execution_count": 13,
          "metadata": {},
          "output_type": "execute_result"
        }
      ],
      "source": [
        "# import pandas_datareader as pdr\n",
        "\n",
        "df = pd.read_csv('../Stock-price-predicition/csv files/individual_stocks_5yr/CSCO_data.csv')\n",
        "df\n"
      ]
    },
    {
      "cell_type": "code",
      "execution_count": 14,
      "metadata": {
        "colab": {
          "base_uri": "https://localhost:8080/",
          "height": 34
        },
        "colab_type": "code",
        "id": "NiTAF2f3In4A",
        "outputId": "735daa8f-a747-44b6-bbc5-d506f0ac1079"
      },
      "outputs": [
        {
          "data": {
            "text/plain": [
              "(1259, 7)"
            ]
          },
          "execution_count": 14,
          "metadata": {},
          "output_type": "execute_result"
        }
      ],
      "source": [
        "df.shape"
      ]
    },
    {
      "cell_type": "code",
      "execution_count": 15,
      "metadata": {
        "colab": {},
        "colab_type": "code",
        "id": "BQw5ZLyKYDgB"
      },
      "outputs": [],
      "source": [
        "#choose plotting style\n",
        "\n",
        "#plt.style.use('fivethirtyeight')\n",
        "plt.style.use('dark_background')\n",
        "#plt.style.use('ggplot')\n",
        "#plt.style.use('seaborn-whitegrid')\n",
        "#plt.style.use('bmh')\n",
        "#plt.style.use('seaborn')"
      ]
    },
    {
      "cell_type": "code",
      "execution_count": 17,
      "metadata": {
        "colab": {
          "base_uri": "https://localhost:8080/",
          "height": 521
        },
        "colab_type": "code",
        "id": "Po2tpyF6In4e",
        "outputId": "f905a4a2-e208-4a5a-e09f-823acf142e93"
      },
      "outputs": [
        {
          "data": {
            "image/png": "[encoded data removed]",
            "text/plain": [
              "<Figure size 1600x800 with 1 Axes>"
            ]
          },
          "metadata": {},
          "output_type": "display_data"
        }
      ],
      "source": [
        "plt.figure(figsize=(16,8))\n",
        "plt.title('Opening Price')\n",
        "plt.plot(df['open'])\n",
        "plt.xlabel('Date', fontsize=18)\n",
        "plt.ylabel('Open Price USD ($)', fontsize=18)\n",
        "plt.show()"
      ]
    },
    {
      "cell_type": "code",
      "execution_count": 18,
      "metadata": {
        "colab": {
          "base_uri": "https://localhost:8080/",
          "height": 34
        },
        "colab_type": "code",
        "id": "KdEgDzTBIn4-",
        "outputId": "511b2b4c-66f4-4b96-8b4f-50644f2a8243"
      },
      "outputs": [
        {
          "data": {
            "text/plain": [
              "1008"
            ]
          },
          "execution_count": 18,
          "metadata": {},
          "output_type": "execute_result"
        }
      ],
      "source": [
        "data=df.filter(['open'])\n",
        "\n",
        "#Convert to np array\n",
        "dataset=data.values\n",
        "\n",
        "#Get the number of rows to train the model on\n",
        "#math.ceil to round up \n",
        "\n",
        "training_data_len = math.ceil(len(dataset)*.8)\n",
        "\n",
        "\n",
        "#print(dataset)\n",
        "training_data_len"
      ]
    },
    {
      "cell_type": "code",
      "execution_count": 19,
      "metadata": {
        "colab": {},
        "colab_type": "code",
        "id": "5pp9vHJxIn5a"
      },
      "outputs": [],
      "source": [
        "#Scale the data\n",
        "\n",
        "scaler = MinMaxScaler(feature_range=(0,1))\n",
        "scaled_data = scaler.fit_transform(dataset)\n",
        "\n"
      ]
    },
    {
      "cell_type": "code",
      "execution_count": 20,
      "metadata": {
        "colab": {
          "base_uri": "https://localhost:8080/",
          "height": 260
        },
        "colab_type": "code",
        "id": "u-TDzVQ7In5s",
        "outputId": "cf1bce70-e72d-4a67-fe26-c1f82582bfb9"
      },
      "outputs": [
        {
          "name": "stdout",
          "output_type": "stream",
          "text": [
            "[array([0.04313968, 0.0462573 , 0.04670204, 0.03558356, 0.0302467 ,\n",
            "       0.03291513, 0.0360283 , 0.05737577, 0.03558356, 0.02713352,\n",
            "       0.03558356, 0.01512557, 0.01779401, 0.03069144, 0.02268613,\n",
            "       0.02402035, 0.028023  , 0.04892573, 0.06760477, 0.07294164,\n",
            "       0.06982846, 0.06938373, 0.0644916 , 0.06671529, 0.06093368,\n",
            "       0.06849425, 0.06716003, 0.06360212, 0.03558356, 0.03247039,\n",
            "       0.0302467 , 0.03291513, 0.02135192, 0.02846774, 0.03736252,\n",
            "       0.03380461, 0.04803626, 0.0360283 , 0.00222814, 0.02179666,\n",
            "       0.01957296, 0.03869674, 0.05025995, 0.06538107, 0.05559682,\n",
            "       0.04203228, 0.03335987, 0.02402035, 0.        , 0.01468083,\n",
            "       0.02446509, 0.0120124 , 0.01334662, 0.01823874, 0.0200177 ,\n",
            "       0.03513883, 0.028023  , 0.0120124 , 0.03247039, 0.02980196])]\n",
            "[0.021351917492028027]\n",
            "\n"
          ]
        }
      ],
      "source": [
        "#Create training dataset\n",
        "#Create scaled training dataset\n",
        "\n",
        "train_data = scaled_data[0:training_data_len,:]\n",
        "\n",
        "#Split the data into x_train and y_train data set\n",
        "\n",
        "x_train=[]\n",
        "y_train=[]\n",
        "\n",
        "for i in range(60, len(train_data)):\n",
        "    x_train.append(train_data[i-60:i,0])\n",
        "    y_train.append(train_data[i,0])\n",
        "    if i<=60:\n",
        "        print(x_train)\n",
        "        print(y_train)\n",
        "        print()"
      ]
    },
    {
      "cell_type": "code",
      "execution_count": 21,
      "metadata": {
        "colab": {},
        "colab_type": "code",
        "id": "nSmeb3afIn6E"
      },
      "outputs": [],
      "source": [
        "#convert the x_train and y_train to numpy arrays\n",
        "x_train, y_train = np.array(x_train), np.array(y_train)"
      ]
    },
    {
      "cell_type": "code",
      "execution_count": 22,
      "metadata": {
        "colab": {
          "base_uri": "https://localhost:8080/",
          "height": 34
        },
        "colab_type": "code",
        "id": "1oVwfAu4In6a",
        "outputId": "dfaba2b9-9167-4204-cfbb-b7cac0c84e04"
      },
      "outputs": [
        {
          "data": {
            "text/plain": [
              "(948, 60, 1)"
            ]
          },
          "execution_count": 22,
          "metadata": {},
          "output_type": "execute_result"
        }
      ],
      "source": [
        "#Reshape the data into 3 dimensional\n",
        "x_train = np.reshape(x_train, (x_train.shape[0], x_train.shape[1], 1))\n",
        "x_train.shape"
      ]
    },
    {
      "cell_type": "markdown",
      "metadata": {
        "colab_type": "text",
        "id": "UNs1SsjiOAAp"
      },
      "source": [
        "## Model training "
      ]
    },
    {
      "cell_type": "code",
      "execution_count": 23,
      "metadata": {
        "colab": {},
        "colab_type": "code",
        "id": "Y6RwuEFPIn6_"
      },
      "outputs": [
        {
          "name": "stderr",
          "output_type": "stream",
          "text": [
            "2024-04-24 22:12:23.294276: I tensorflow/core/common_runtime/process_util.cc:146] Creating new thread pool with default inter op setting: 2. Tune using inter_op_parallelism_threads for best performance.\n",
            "2024-04-24 22:12:23.545874: I tensorflow/core/common_runtime/executor.cc:1197] [/device:CPU:0] (DEBUG INFO) Executor start aborting (this does not indicate an error and you can ignore this message): INVALID_ARGUMENT: You must feed a value for placeholder tensor 'gradients/split_2_grad/concat/split_2/split_dim' with dtype int32\n",
            "\t [[{{node gradients/split_2_grad/concat/split_2/split_dim}}]]\n",
            "2024-04-24 22:12:23.547089: I tensorflow/core/common_runtime/executor.cc:1197] [/device:CPU:0] (DEBUG INFO) Executor start aborting (this does not indicate an error and you can ignore this message): INVALID_ARGUMENT: You must feed a value for placeholder tensor 'gradients/split_grad/concat/split/split_dim' with dtype int32\n",
            "\t [[{{node gradients/split_grad/concat/split/split_dim}}]]\n",
            "2024-04-24 22:12:23.551185: I tensorflow/core/common_runtime/executor.cc:1197] [/device:CPU:0] (DEBUG INFO) Executor start aborting (this does not indicate an error and you can ignore this message): INVALID_ARGUMENT: You must feed a value for placeholder tensor 'gradients/split_1_grad/concat/split_1/split_dim' with dtype int32\n",
            "\t [[{{node gradients/split_1_grad/concat/split_1/split_dim}}]]\n",
            "2024-04-24 22:12:23.754774: I tensorflow/core/common_runtime/executor.cc:1197] [/device:CPU:0] (DEBUG INFO) Executor start aborting (this does not indicate an error and you can ignore this message): INVALID_ARGUMENT: You must feed a value for placeholder tensor 'gradients/split_2_grad/concat/split_2/split_dim' with dtype int32\n",
            "\t [[{{node gradients/split_2_grad/concat/split_2/split_dim}}]]\n",
            "2024-04-24 22:12:23.756028: I tensorflow/core/common_runtime/executor.cc:1197] [/device:CPU:0] (DEBUG INFO) Executor start aborting (this does not indicate an error and you can ignore this message): INVALID_ARGUMENT: You must feed a value for placeholder tensor 'gradients/split_grad/concat/split/split_dim' with dtype int32\n",
            "\t [[{{node gradients/split_grad/concat/split/split_dim}}]]\n",
            "2024-04-24 22:12:23.762027: I tensorflow/core/common_runtime/executor.cc:1197] [/device:CPU:0] (DEBUG INFO) Executor start aborting (this does not indicate an error and you can ignore this message): INVALID_ARGUMENT: You must feed a value for placeholder tensor 'gradients/split_1_grad/concat/split_1/split_dim' with dtype int32\n",
            "\t [[{{node gradients/split_1_grad/concat/split_1/split_dim}}]]\n"
          ]
        }
      ],
      "source": [
        "#Build LSTM model\n",
        "model=Sequential()\n",
        "#Add first layer to model\n",
        "model.add(LSTM(50, return_sequences=True, input_shape=(x_train.shape[1],1)))\n",
        "#Add second layer to model\n",
        "model.add(LSTM(50, return_sequences=False))\n",
        "#Add Dense Layer to model with 25 neurons\n",
        "model.add(Dense(25))\n",
        "#Add Dense Layer to model with 1 neuron\n",
        "model.add(Dense(1))"
      ]
    },
    {
      "cell_type": "code",
      "execution_count": 24,
      "metadata": {
        "colab": {},
        "colab_type": "code",
        "id": "ryE2rTOMIn7X"
      },
      "outputs": [],
      "source": [
        "#Compile the model\n",
        "model.compile(optimizer='adam', loss='mean_squared_error')\n"
      ]
    },
    {
      "cell_type": "code",
      "execution_count": 26,
      "metadata": {
        "colab": {
          "base_uri": "https://localhost:8080/",
          "height": 139
        },
        "colab_type": "code",
        "id": "vmAwD6mUIn7r",
        "outputId": "926dad42-42a2-477f-c7b7-102c75d87138"
      },
      "outputs": [
        {
          "name": "stdout",
          "output_type": "stream",
          "text": [
            "Epoch 1/3\n",
            "948/948 [==============================] - 40s 42ms/step - loss: 0.0011\n",
            "Epoch 2/3\n",
            "948/948 [==============================] - 43s 46ms/step - loss: 6.5255e-04\n",
            "Epoch 3/3\n",
            "948/948 [==============================] - 42s 45ms/step - loss: 5.2519e-04\n"
          ]
        },
        {
          "data": {
            "text/plain": [
              "<keras.callbacks.History at 0x7f4068607010>"
            ]
          },
          "execution_count": 26,
          "metadata": {},
          "output_type": "execute_result"
        }
      ],
      "source": [
        "#Train the model\n",
        "model.fit(x_train, y_train, batch_size=1,epochs=3)"
      ]
    },
    {
      "cell_type": "markdown",
      "metadata": {
        "colab_type": "text",
        "id": "-__xdsJ_OKUg"
      },
      "source": [
        "## Testing and Validating model"
      ]
    },
    {
      "cell_type": "code",
      "execution_count": 27,
      "metadata": {
        "colab": {},
        "colab_type": "code",
        "id": "QlX9uNw3In8R"
      },
      "outputs": [],
      "source": [
        "#Create the test data set\n",
        "#Create a new array containing scaled values\n",
        "\n",
        "test_data=scaled_data[training_data_len-60: , : ]\n",
        "#Create the data sets x_test and y_test\n",
        "\n",
        "x_test=[]\n",
        "y_test=dataset[training_data_len:,:]\n",
        "for i in range(60, len(test_data)):\n",
        "    x_test.append(test_data[i-60:i,0])\n",
        "    \n"
      ]
    },
    {
      "cell_type": "code",
      "execution_count": 28,
      "metadata": {
        "colab": {},
        "colab_type": "code",
        "id": "9GWP-0_DIn8z"
      },
      "outputs": [],
      "source": [
        "#Convert the data to a numpy array\n",
        "\n",
        "x_test=np.array(x_test)\n"
      ]
    },
    {
      "cell_type": "code",
      "execution_count": 29,
      "metadata": {
        "colab": {},
        "colab_type": "code",
        "id": "0ogsB0ZdIn9J"
      },
      "outputs": [],
      "source": [
        "#Reshape the data to 3d\n",
        "x_test=np.reshape(x_test,(x_test.shape[0], x_test.shape[1], 1))\n"
      ]
    },
    {
      "cell_type": "code",
      "execution_count": 30,
      "metadata": {
        "colab": {},
        "colab_type": "code",
        "id": "Yud6qyU6In9Z"
      },
      "outputs": [
        {
          "name": "stderr",
          "output_type": "stream",
          "text": [
            "2024-04-24 22:15:34.927052: I tensorflow/core/common_runtime/executor.cc:1197] [/device:CPU:0] (DEBUG INFO) Executor start aborting (this does not indicate an error and you can ignore this message): INVALID_ARGUMENT: You must feed a value for placeholder tensor 'gradients/split_2_grad/concat/split_2/split_dim' with dtype int32\n",
            "\t [[{{node gradients/split_2_grad/concat/split_2/split_dim}}]]\n",
            "2024-04-24 22:15:34.928407: I tensorflow/core/common_runtime/executor.cc:1197] [/device:CPU:0] (DEBUG INFO) Executor start aborting (this does not indicate an error and you can ignore this message): INVALID_ARGUMENT: You must feed a value for placeholder tensor 'gradients/split_grad/concat/split/split_dim' with dtype int32\n",
            "\t [[{{node gradients/split_grad/concat/split/split_dim}}]]\n",
            "2024-04-24 22:15:34.929280: I tensorflow/core/common_runtime/executor.cc:1197] [/device:CPU:0] (DEBUG INFO) Executor start aborting (this does not indicate an error and you can ignore this message): INVALID_ARGUMENT: You must feed a value for placeholder tensor 'gradients/split_1_grad/concat/split_1/split_dim' with dtype int32\n",
            "\t [[{{node gradients/split_1_grad/concat/split_1/split_dim}}]]\n",
            "2024-04-24 22:15:35.183948: I tensorflow/core/common_runtime/executor.cc:1197] [/device:CPU:0] (DEBUG INFO) Executor start aborting (this does not indicate an error and you can ignore this message): INVALID_ARGUMENT: You must feed a value for placeholder tensor 'gradients/split_2_grad/concat/split_2/split_dim' with dtype int32\n",
            "\t [[{{node gradients/split_2_grad/concat/split_2/split_dim}}]]\n",
            "2024-04-24 22:15:35.185096: I tensorflow/core/common_runtime/executor.cc:1197] [/device:CPU:0] (DEBUG INFO) Executor start aborting (this does not indicate an error and you can ignore this message): INVALID_ARGUMENT: You must feed a value for placeholder tensor 'gradients/split_grad/concat/split/split_dim' with dtype int32\n",
            "\t [[{{node gradients/split_grad/concat/split/split_dim}}]]\n",
            "2024-04-24 22:15:35.185973: I tensorflow/core/common_runtime/executor.cc:1197] [/device:CPU:0] (DEBUG INFO) Executor start aborting (this does not indicate an error and you can ignore this message): INVALID_ARGUMENT: You must feed a value for placeholder tensor 'gradients/split_1_grad/concat/split_1/split_dim' with dtype int32\n",
            "\t [[{{node gradients/split_1_grad/concat/split_1/split_dim}}]]\n"
          ]
        },
        {
          "name": "stdout",
          "output_type": "stream",
          "text": [
            "8/8 [==============================] - 1s 73ms/step\n"
          ]
        }
      ],
      "source": [
        "#Get the models predicted price values\n",
        "\n",
        "predictions=model.predict(x_test)\n",
        "predictions=scaler.inverse_transform(predictions)\n"
      ]
    },
    {
      "cell_type": "code",
      "execution_count": 31,
      "metadata": {
        "colab": {
          "base_uri": "https://localhost:8080/",
          "height": 34
        },
        "colab_type": "code",
        "id": "2mlIpi4VIn9z",
        "outputId": "087adb1a-c595-4a3f-f7f1-9f213eaa5ff5"
      },
      "outputs": [
        {
          "data": {
            "text/plain": [
              "0.03655044130120145"
            ]
          },
          "execution_count": 31,
          "metadata": {},
          "output_type": "execute_result"
        }
      ],
      "source": [
        "#Get root mean squared error(RMSE)\n",
        "\n",
        "rmse =np.sqrt(np.mean(predictions-y_test)**2)\n",
        "rmse\n",
        "\n"
      ]
    },
    {
      "cell_type": "code",
      "execution_count": 32,
      "metadata": {
        "colab": {},
        "colab_type": "code",
        "id": "yBbVWNWSaGgT"
      },
      "outputs": [],
      "source": [
        "#choose plotting style\n",
        "\n",
        "#plt.style.use('fivethirtyeight')\n",
        "plt.style.use('dark_background')\n",
        "#plt.style.use('ggplot')\n",
        "#plt.style.use('seaborn-whitegrid')\n",
        "#plt.style.use('bmh')\n",
        "#plt.style.use('seaborn')"
      ]
    },
    {
      "cell_type": "code",
      "execution_count": 37,
      "metadata": {
        "colab": {
          "base_uri": "https://localhost:8080/",
          "height": 625
        },
        "colab_type": "code",
        "id": "dpG0ZTlAIn-G",
        "outputId": "1e575ed9-e2a2-4051-9321-3a96277ddbbf",
        "scrolled": true
      },
      "outputs": [
        {
          "name": "stderr",
          "output_type": "stream",
          "text": [
            "/tmp/ipykernel_209583/3094777873.py:5: SettingWithCopyWarning: \n",
            "A value is trying to be set on a copy of a slice from a DataFrame.\n",
            "Try using .loc[row_indexer,col_indexer] = value instead\n",
            "\n",
            "See the caveats in the documentation: https://pandas.pydata.org/pandas-docs/stable/user_guide/indexing.html#returning-a-view-versus-a-copy\n",
            "  valid['predictions'] = predictions\n"
          ]
        },
        {
          "data": {
            "image/png": "[encoded data removed]",
            "text/plain": [
              "<Figure size 1600x800 with 1 Axes>"
            ]
          },
          "metadata": {},
          "output_type": "display_data"
        }
      ],
      "source": [
        "#plot the data\n",
        "\n",
        "train=data[:training_data_len]\n",
        "valid=data[training_data_len:]\n",
        "valid['predictions'] = predictions\n",
        "\n",
        "#Visualize the data\n",
        "plt.figure(figsize=(16,8))\n",
        "plt.title('Cisco company - Model prediciton comparison')\n",
        "plt.xlabel('Date', fontsize=18)\n",
        "plt.ylabel('Open Price USD($)', fontsize=18)\n",
        "plt.plot(train['open'] , color='red')\n",
        "plt.plot(valid['open'] , color='yellow')\n",
        "plt.plot(valid[ 'predictions'] , color='green')\n",
        "plt.legend(['Train','Validation/Test', 'predictions'], loc='lower right')\n",
        "# plt.savefig('/content/prediction.png')\n",
        "plt.show()\n"
      ]
    },
    {
      "cell_type": "code",
      "execution_count": 35,
      "metadata": {
        "colab": {
          "base_uri": "https://localhost:8080/",
          "height": 551
        },
        "colab_type": "code",
        "id": "9IZAwTwYIn-Y",
        "outputId": "c6ce6c44-c6ec-447a-ef40-e06f237c6a3e"
      },
      "outputs": [
        {
          "data": {
            "text/html": [
              "<div>\n",
              "<style scoped>\n",
              "    .dataframe tbody tr th:only-of-type {\n",
              "        vertical-align: middle;\n",
              "    }\n",
              "\n",
              "    .dataframe tbody tr th {\n",
              "        vertical-align: top;\n",
              "    }\n",
              "\n",
              "    .dataframe thead th {\n",
              "        text-align: right;\n",
              "    }\n",
              "</style>\n",
              "<table border=\"1\" class=\"dataframe\">\n",
              "  <thead>\n",
              "    <tr style=\"text-align: right;\">\n",
              "      <th></th>\n",
              "      <th>open</th>\n",
              "      <th>predictions</th>\n",
              "    </tr>\n",
              "  </thead>\n",
              "  <tbody>\n",
              "    <tr>\n",
              "      <th>1244</th>\n",
              "      <td>41.240</td>\n",
              "      <td>40.804813</td>\n",
              "    </tr>\n",
              "    <tr>\n",
              "      <th>1245</th>\n",
              "      <td>41.280</td>\n",
              "      <td>41.066486</td>\n",
              "    </tr>\n",
              "    <tr>\n",
              "      <th>1246</th>\n",
              "      <td>41.200</td>\n",
              "      <td>41.129013</td>\n",
              "    </tr>\n",
              "    <tr>\n",
              "      <th>1247</th>\n",
              "      <td>41.540</td>\n",
              "      <td>41.004337</td>\n",
              "    </tr>\n",
              "    <tr>\n",
              "      <th>1248</th>\n",
              "      <td>42.200</td>\n",
              "      <td>41.273136</td>\n",
              "    </tr>\n",
              "    <tr>\n",
              "      <th>1249</th>\n",
              "      <td>42.270</td>\n",
              "      <td>41.990765</td>\n",
              "    </tr>\n",
              "    <tr>\n",
              "      <th>1250</th>\n",
              "      <td>42.150</td>\n",
              "      <td>42.183540</td>\n",
              "    </tr>\n",
              "    <tr>\n",
              "      <th>1251</th>\n",
              "      <td>42.300</td>\n",
              "      <td>41.967773</td>\n",
              "    </tr>\n",
              "    <tr>\n",
              "      <th>1252</th>\n",
              "      <td>42.685</td>\n",
              "      <td>41.995693</td>\n",
              "    </tr>\n",
              "    <tr>\n",
              "      <th>1253</th>\n",
              "      <td>41.980</td>\n",
              "      <td>42.395870</td>\n",
              "    </tr>\n",
              "    <tr>\n",
              "      <th>1254</th>\n",
              "      <td>41.090</td>\n",
              "      <td>41.801487</td>\n",
              "    </tr>\n",
              "    <tr>\n",
              "      <th>1255</th>\n",
              "      <td>41.500</td>\n",
              "      <td>40.750732</td>\n",
              "    </tr>\n",
              "    <tr>\n",
              "      <th>1256</th>\n",
              "      <td>40.870</td>\n",
              "      <td>41.004848</td>\n",
              "    </tr>\n",
              "    <tr>\n",
              "      <th>1257</th>\n",
              "      <td>38.330</td>\n",
              "      <td>40.689861</td>\n",
              "    </tr>\n",
              "    <tr>\n",
              "      <th>1258</th>\n",
              "      <td>40.310</td>\n",
              "      <td>38.270638</td>\n",
              "    </tr>\n",
              "  </tbody>\n",
              "</table>\n",
              "</div>"
            ],
            "text/plain": [
              "        open  predictions\n",
              "1244  41.240    40.804813\n",
              "1245  41.280    41.066486\n",
              "1246  41.200    41.129013\n",
              "1247  41.540    41.004337\n",
              "1248  42.200    41.273136\n",
              "1249  42.270    41.990765\n",
              "1250  42.150    42.183540\n",
              "1251  42.300    41.967773\n",
              "1252  42.685    41.995693\n",
              "1253  41.980    42.395870\n",
              "1254  41.090    41.801487\n",
              "1255  41.500    40.750732\n",
              "1256  40.870    41.004848\n",
              "1257  38.330    40.689861\n",
              "1258  40.310    38.270638"
            ]
          },
          "execution_count": 35,
          "metadata": {},
          "output_type": "execute_result"
        }
      ],
      "source": [
        "#Show the valid and predicted prices\n",
        "\n",
        "valid.tail(15)"
      ]
    },
    {
      "cell_type": "markdown",
      "metadata": {
        "colab_type": "text",
        "id": "EwVZro2_OFLH"
      },
      "source": [
        "# Getting predicitions - for tomorrow"
      ]
    },
    {
      "cell_type": "code",
      "execution_count": 36,
      "metadata": {
        "colab": {
          "base_uri": "https://localhost:8080/",
          "height": 34
        },
        "colab_type": "code",
        "id": "GXS4uLtRIn-s",
        "outputId": "ffc0d544-710f-4145-fee1-c40a39f5fa62"
      },
      "outputs": [
        {
          "name": "stdout",
          "output_type": "stream",
          "text": [
            "1/1 [==============================] - 0s 26ms/step\n",
            "Opening Price of AMZN tomorrow:[[39.546856]]\n"
          ]
        }
      ],
      "source": [
        "#Get the quote\n",
        "stock_quote = pd.read_csv('../Stock-price-predicition/csv files/individual_stocks_5yr/CSCO_data.csv')\n",
        "\n",
        "new_df=stock_quote.filter(['open'])\n",
        "#Get last 60 days values and convert into array\n",
        "last_60_days=new_df[-60:].values\n",
        "\n",
        "#Scale the data to be values between 0\n",
        "last_60_days_scaled=scaler.transform(last_60_days)\n",
        "\n",
        "#Create an empty list\n",
        "X_test=[]\n",
        "#Appemd the past 60days\n",
        "X_test.append(last_60_days_scaled)\n",
        "\n",
        "#Conver the X_test data into numpy array\n",
        "X_test = np.array(X_test)\n",
        "\n",
        "#Reshape the data\n",
        "X_test = np.reshape(X_test, (X_test.shape[0], X_test.shape[1],1))\n",
        "#Get predicted scaled price\n",
        "pred_price = model.predict(X_test)\n",
        "#undo the scaling\n",
        "pred_price=scaler.inverse_transform(pred_price)\n",
        "print(f'Opening Price of {ticker} tomorrow:{pred_price}')"
      ]
    },
    {
      "cell_type": "markdown",
      "metadata": {
        "colab_type": "text",
        "id": "RfFPY58dPFDp"
      },
      "source": [
        "## Getting predicitions for 2 months from now ?"
      ]
    },
    {
      "cell_type": "code",
      "execution_count": 26,
      "metadata": {
        "colab": {
          "base_uri": "https://localhost:8080/",
          "height": 0
        },
        "colab_type": "code",
        "id": "dCzyvO2LO5cI",
        "outputId": "07bd8802-4448-409f-88f1-edb5ceb62085"
      },
      "outputs": [
        {
          "name": "stdout",
          "output_type": "stream",
          "text": [
            "Opening Price of TSLA tomorrow:[[783.4997]]\n"
          ]
        }
      ],
      "source": [
        "#Get the quote\n",
        "stock_quote = web.DataReader(ticker, data_source='yahoo', start='2012-01-01', end='2020-05-24')\n",
        "\n",
        "new_df=stock_quote.filter(['Open'])\n",
        "#Get last 60 days values and convert into array\n",
        "last_60_days=new_df[-60:].values\n",
        "\n",
        "#Scale the data to be values between 0\n",
        "last_60_days_scaled=scaler.transform(last_60_days)\n",
        "\n",
        "#Create an empty list\n",
        "X_test=[]\n",
        "#Appemd the past 60days\n",
        "X_test.append(last_60_days_scaled)\n",
        "\n",
        "#Conver the X_test data into numpy array\n",
        "X_test = np.array(X_test)\n",
        "\n",
        "#Reshape the data\n",
        "X_test = np.reshape(X_test, (X_test.shape[0], X_test.shape[1],1))\n",
        "#Get predicted scaled price\n",
        "pred_price = model.predict(X_test)\n",
        "#undo the scaling\n",
        "pred_price=scaler.inverse_transform(pred_price)\n",
        "print(f'Opening Price of {ticker} tomorrow:{pred_price}')"
      ]
    }
  ],
  "metadata": {
    "colab": {
      "collapsed_sections": [
        "RfFPY58dPFDp"
      ],
      "name": "Opening_Price_Prediction- keras.ipynb",
      "provenance": []
    },
    "kernelspec": {
      "display_name": "Python 3",
      "language": "python",
      "name": "python3"
    },
    "language_info": {
      "codemirror_mode": {
        "name": "ipython",
        "version": 3
      },
      "file_extension": ".py",
      "mimetype": "text/x-python",
      "name": "python",
      "nbconvert_exporter": "python",
      "pygments_lexer": "ipython3",
      "version": "3.11.5"
    }
  },
  "nbformat": 4,
  "nbformat_minor": 0
}
